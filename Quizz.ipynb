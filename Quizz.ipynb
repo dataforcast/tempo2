{
 "cells": [
  {
   "cell_type": "markdown",
   "metadata": {},
   "source": [
    "# <font color = \"blus\">Question 1</font>"
   ]
  },
  {
   "cell_type": "markdown",
   "metadata": {},
   "source": [
    "Let's tackle our first project together. Find a partner and start coding a quiz together! Your program should: \n",
    "\n",
    "1. Ask a question to a user via the console \n",
    "2. Verify whether the answer is correct or not \n",
    "3. If the answer is correct, you should print out: `Good job! This is the right answer`\n",
    "\n",
    "* Else, it should print out : `Too bad! that is not the correct answer`\n",
    "\n",
    "4. Ask three questions following this model.\n",
    "\n"
   ]
  },
  {
   "cell_type": "markdown",
   "metadata": {},
   "source": [
    "# <font color = \"blus\">Question 2</font>"
   ]
  },
  {
   "cell_type": "markdown",
   "metadata": {},
   "source": [
    "There's a problem with our quizz : if the user has not given the right answer, the program goes to next question. We would rather like to ask again the same question if the answer was wrong.\n",
    "\n",
    "5. Using a `while` loop, make sure that the same question will be asked again when the answer was wrong\n",
    "\n",
    "6. Rewrite your code such that this behaviour is applied to all questions."
   ]
  },
  {
   "cell_type": "code",
   "execution_count": 16,
   "metadata": {},
   "outputs": [],
   "source": [
    "#-------------------------------------------------------\n",
    "#\n",
    "#-------------------------------------------------------\n",
    "class Quizz() :\n",
    "    def __init__(self, dict_questionResponse, max_retries=3) :\n",
    "        self.dict_questionResponse = dict_questionResponse.copy()\n",
    "        self.compteur    = 0\n",
    "        self.max_retries = max_retries\n",
    "        \n",
    "    def isGood(self, strQuestion, userResponse) :\n",
    "        trueResponse =  self.dict_questionResponse[strQuestion]\n",
    "        return userResponse.lower() == trueResponse.lower()\n",
    "    \n",
    "    def start(self) :\n",
    "        isFalse = False\n",
    "        for strQuestion in self.dict_questionResponse.keys() :\n",
    "            while self.compteur < self.max_retries :\n",
    "                userReply = input(strQuestion)\n",
    "                if self.isGood(strQuestion, userReply) :\n",
    "                    print(\"Bonne réponse !\\n\")\n",
    "                    break\n",
    "                else :\n",
    "                    self.compteur += 1\n",
    "                    print(\"Mauvaise réponse !\\n\")\n",
    "            if self.max_retries == self.compteur :\n",
    "                print(\"Perdu !\")\n",
    "    "
   ]
  },
  {
   "cell_type": "code",
   "execution_count": 22,
   "metadata": {},
   "outputs": [
    {
     "name": "stdout",
     "output_type": "stream",
     "text": [
      "Quelle est l'année de la révolution française? é\"\n",
      "Mauvaise réponse !\n",
      "\n",
      "Perdu !\n"
     ]
    }
   ],
   "source": [
    "dict_questionResponse = {\n",
    "    #\"Quelle est la couleur du cheval blanc d'Henri IV ?\":\"Blanc\",\n",
    "    \"Quelle est l'année de la révolution française? \":\"1789\"\n",
    "    }\n",
    "\n",
    "oQuizz = Quizz(dict_questionResponse, max_retries=1)\n",
    "oQuizz.start()"
   ]
  },
  {
   "cell_type": "code",
   "execution_count": null,
   "metadata": {},
   "outputs": [],
   "source": []
  }
 ],
 "metadata": {
  "kernelspec": {
   "display_name": "Python 3",
   "language": "python",
   "name": "python3"
  },
  "language_info": {
   "codemirror_mode": {
    "name": "ipython",
    "version": 3
   },
   "file_extension": ".py",
   "mimetype": "text/x-python",
   "name": "python",
   "nbconvert_exporter": "python",
   "pygments_lexer": "ipython3",
   "version": "3.8.5"
  }
 },
 "nbformat": 4,
 "nbformat_minor": 4
}
